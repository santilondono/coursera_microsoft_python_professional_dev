{
 "cells": [
  {
   "cell_type": "markdown",
   "metadata": {},
   "source": [
    "## **Module 2** - Control del flujo: Sentencias condicionales y bucles"
   ]
  },
  {
   "cell_type": "markdown",
   "metadata": {},
   "source": [
    "### Bucles: El poder de la repetición"
   ]
  },
  {
   "cell_type": "markdown",
   "metadata": {},
   "source": [
    "`for` bucle: Iterar sobre secuencias  \n",
    "Un bucle `for` itera sobre una secuencia, como una lista, tupla o cadena, ejecutando un bloque de código por cada elemento de la secuencia. Esto resulta especialmente útil cuando se trabaja con colecciones de datos o cuando se conoce de antemano el número de iteraciones. Por ejemplo, para imprimir los 10 primeros números naturales, un bucle `for` puede iterar eficazmente sobre los números del 1 al 10, ejecutando la función `print()` para cada número."
   ]
  },
  {
   "cell_type": "code",
   "execution_count": 1,
   "metadata": {},
   "outputs": [
    {
     "name": "stdout",
     "output_type": "stream",
     "text": [
      "1\n",
      "2\n",
      "3\n",
      "4\n",
      "5\n",
      "6\n",
      "7\n",
      "8\n",
      "9\n",
      "10\n"
     ]
    }
   ],
   "source": [
    "for i in range(1, 11):\n",
    "  print(i)"
   ]
  },
  {
   "cell_type": "markdown",
   "metadata": {},
   "source": [
    "`while` bucle: Ejecución basada en condiciones  \n",
    "Un bucle `while`, por el contrario, ejecuta un bloque de código mientras se cumpla una condición especificada. Esto resulta útil cuando se desconoce de antemano el número de iteraciones o cuando el bucle debe continuar hasta que se cumpla una condición específica. Por ejemplo, considere un programa que solicite a un usuario una entrada hasta que introduzca una respuesta válida. Un bucle `while` puede pedir repetidamente la entrada y comprobar su validez, terminando sólo cuando se proporciona una entrada válida."
   ]
  },
  {
   "cell_type": "code",
   "execution_count": 4,
   "metadata": {},
   "outputs": [
    {
     "name": "stdout",
     "output_type": "stream",
     "text": [
      "Invalid input. Please try again.\n",
      "Invalid input. Please try again.\n",
      "Invalid input. Please try again.\n"
     ]
    }
   ],
   "source": [
    "valid_input = False\n",
    "while not valid_input:\n",
    "  user_input = int(input(\"Please enter a number greater than 0: \"))\n",
    "  if user_input > 0:\n",
    "    valid_input = True\n",
    "  else:\n",
    "    print(\"Invalid input. Please try again.\")"
   ]
  },
  {
   "cell_type": "markdown",
   "metadata": {},
   "source": [
    "### Sentencias condicionales: Introducción a la toma de decisiones"
   ]
  },
  {
   "cell_type": "markdown",
   "metadata": {},
   "source": [
    "`if-else` Sentencia: Ejecución ramificada  \n",
    "La sentencia if-else sigue una estructura sencilla. Si una condición es verdadera, se ejecuta el bloque de código dentro de la sentencia `if`; en caso contrario, se ejecuta el bloque de código dentro de la sentencia `else`. Esto permite la ejecución selectiva de código basada en criterios específicos.\n",
    "\n",
    "Considere un juego en el que un jugador gana puntos. Una sentencia `if-else` puede mostrar un mensaje de felicitación si la puntuación del jugador supera un determinado umbral, proporcionando comentarios y estímulos basados en su rendimiento."
   ]
  },
  {
   "cell_type": "code",
   "execution_count": 5,
   "metadata": {},
   "outputs": [
    {
     "name": "stdout",
     "output_type": "stream",
     "text": [
      "Kepp trying to beat your hihg score!\n"
     ]
    }
   ],
   "source": [
    "player_score = 80\n",
    "\n",
    "if player_score >= 100:\n",
    "    print('Congratulations! Your score is over 100 points!')\n",
    "else:\n",
    "    print('Kepp trying to beat your hihg score!')"
   ]
  },
  {
   "cell_type": "markdown",
   "metadata": {},
   "source": [
    "### Desafío de programación: Adivina el número secreto"
   ]
  },
  {
   "cell_type": "markdown",
   "metadata": {},
   "source": [
    "**Su tarea:**  \n",
    "Creará un juego de adivinar números en el que el ordenador intentará adivinar un número secreto que usted le indique. El ordenador generará conjeturas aleatorias dentro de un rango (1 a 10) y continuará adivinando hasta que encuentre el número correcto.\n",
    "\n",
    "**Instrucciones:**  \n",
    "Configure su `secret_number`: Elija un número entre 1 y 10 y asígnele una variable llamada secret_number.\n",
    "\n",
    "Inicialice otra variable llamada `guess` con un valor de 0.\n",
    "\n",
    "Completa el bucle `while`: Añada la condición al bucle `while` para asegurarse de que continúa ejecutándose mientras `guess` no sea igual a su `secret_number`.\n",
    "\n",
    "**Ejemplo de salida:**  \n",
    "`Guessing: 3`\n",
    "\n",
    "`Guessing: 8`\n",
    "\n",
    "`Guessing: 1`\n",
    "\n",
    "`Guessing: 7`\n",
    "\n",
    "`I guessed the right number! It was 7`"
   ]
  },
  {
   "cell_type": "code",
   "execution_count": 37,
   "metadata": {},
   "outputs": [
    {
     "name": "stdout",
     "output_type": "stream",
     "text": [
      "Guessing: 3\n",
      "Guessing: 4\n",
      "Guessing: 8\n",
      "I guessed the rigth number! It was 8\n"
     ]
    }
   ],
   "source": [
    "import random\n",
    "\n",
    "secret_number = 8\n",
    "guess = 0\n",
    "\n",
    "while guess != secret_number:\n",
    "    guess = random.randint(1, 10)\n",
    "    print(f'Guessing: {guess}')\n",
    "print(f'I guessed the rigth number! It was {guess}')\n"
   ]
  }
 ],
 "metadata": {
  "kernelspec": {
   "display_name": "base",
   "language": "python",
   "name": "python3"
  },
  "language_info": {
   "codemirror_mode": {
    "name": "ipython",
    "version": 3
   },
   "file_extension": ".py",
   "mimetype": "text/x-python",
   "name": "python",
   "nbconvert_exporter": "python",
   "pygments_lexer": "ipython3",
   "version": "3.12.7"
  }
 },
 "nbformat": 4,
 "nbformat_minor": 2
}
