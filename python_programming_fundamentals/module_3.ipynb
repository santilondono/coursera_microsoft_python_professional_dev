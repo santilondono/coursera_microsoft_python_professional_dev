{
 "cells": [
  {
   "cell_type": "markdown",
   "metadata": {},
   "source": [
    "# **Module 3** "
   ]
  },
  {
   "cell_type": "markdown",
   "metadata": {},
   "source": [
    "### El poder de la reutilización: Funciones, clases y módulos desvelados"
   ]
  },
  {
   "cell_type": "markdown",
   "metadata": {},
   "source": [
    "**Funciones: Los componentes básicos del código modular**\n",
    "\n",
    "Las funciones son unidades autónomas de código diseñadas para realizar tareas específicas. Actúan como verbos en el vocabulario de su código, encapsulando acciones como \"calcular_área\", \"validar_dirección\" o \"enviar_confirmación_email\" Cada función recibe datos de entrada (argumentos), los procesa de acuerdo con su lógica interna y, a menudo, genera datos de salida (un valor de retorno).\n",
    "\n",
    "Desglosemos estos conceptos clave en el contexto de una función que calcula el área de un rectángulo llamada ``calculate_area``:"
   ]
  },
  {
   "cell_type": "code",
   "execution_count": 1,
   "metadata": {},
   "outputs": [
    {
     "name": "stdout",
     "output_type": "stream",
     "text": [
      "The area of the rectangle is 200\n"
     ]
    }
   ],
   "source": [
    "def calculate_area(length, width):\n",
    "    area = length * width\n",
    "    return area\n",
    "\n",
    "# Test the function\n",
    "\n",
    "length = 10\n",
    "width = 20\n",
    "rectangele_area = calculate_area(length, width)\n",
    "print(f\"The area of the rectangle is {rectangele_area}\")"
   ]
  }
 ],
 "metadata": {
  "kernelspec": {
   "display_name": "base",
   "language": "python",
   "name": "python3"
  },
  "language_info": {
   "codemirror_mode": {
    "name": "ipython",
    "version": 3
   },
   "file_extension": ".py",
   "mimetype": "text/x-python",
   "name": "python",
   "nbconvert_exporter": "python",
   "pygments_lexer": "ipython3",
   "version": "3.12.7"
  }
 },
 "nbformat": 4,
 "nbformat_minor": 2
}
