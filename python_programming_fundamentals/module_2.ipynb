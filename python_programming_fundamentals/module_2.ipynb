{
 "cells": [
  {
   "cell_type": "markdown",
   "metadata": {},
   "source": [
    "# **Module 2** "
   ]
  },
  {
   "cell_type": "markdown",
   "metadata": {},
   "source": [
    "## Control del flujo: Sentencias condicionales y bucles"
   ]
  },
  {
   "cell_type": "markdown",
   "metadata": {},
   "source": [
    "### Bucles: El poder de la repetición"
   ]
  },
  {
   "cell_type": "markdown",
   "metadata": {},
   "source": [
    "`for` bucle: Iterar sobre secuencias  \n",
    "Un bucle `for` itera sobre una secuencia, como una lista, tupla o cadena, ejecutando un bloque de código por cada elemento de la secuencia. Esto resulta especialmente útil cuando se trabaja con colecciones de datos o cuando se conoce de antemano el número de iteraciones. Por ejemplo, para imprimir los 10 primeros números naturales, un bucle `for` puede iterar eficazmente sobre los números del 1 al 10, ejecutando la función `print()` para cada número."
   ]
  },
  {
   "cell_type": "code",
   "execution_count": 3,
   "metadata": {},
   "outputs": [
    {
     "name": "stdout",
     "output_type": "stream",
     "text": [
      "1\n",
      "2\n",
      "3\n",
      "4\n",
      "5\n",
      "6\n",
      "7\n",
      "8\n",
      "9\n",
      "10\n"
     ]
    }
   ],
   "source": [
    "for i in range(1, 11):\n",
    "  print(i)"
   ]
  },
  {
   "cell_type": "markdown",
   "metadata": {},
   "source": [
    "`while` bucle: Ejecución basada en condiciones  \n",
    "Un bucle `while`, por el contrario, ejecuta un bloque de código mientras se cumpla una condición especificada. Esto resulta útil cuando se desconoce de antemano el número de iteraciones o cuando el bucle debe continuar hasta que se cumpla una condición específica. Por ejemplo, considere un programa que solicite a un usuario una entrada hasta que introduzca una respuesta válida. Un bucle `while` puede pedir repetidamente la entrada y comprobar su validez, terminando sólo cuando se proporciona una entrada válida."
   ]
  },
  {
   "cell_type": "code",
   "execution_count": 4,
   "metadata": {},
   "outputs": [
    {
     "ename": "ValueError",
     "evalue": "invalid literal for int() with base 10: ''",
     "output_type": "error",
     "traceback": [
      "\u001b[1;31m---------------------------------------------------------------------------\u001b[0m",
      "\u001b[1;31mValueError\u001b[0m                                Traceback (most recent call last)",
      "Cell \u001b[1;32mIn[4], line 3\u001b[0m\n\u001b[0;32m      1\u001b[0m valid_input \u001b[38;5;241m=\u001b[39m \u001b[38;5;28;01mFalse\u001b[39;00m\n\u001b[0;32m      2\u001b[0m \u001b[38;5;28;01mwhile\u001b[39;00m \u001b[38;5;129;01mnot\u001b[39;00m valid_input:\n\u001b[1;32m----> 3\u001b[0m   user_input \u001b[38;5;241m=\u001b[39m \u001b[38;5;28mint\u001b[39m(\u001b[38;5;28minput\u001b[39m(\u001b[38;5;124m\"\u001b[39m\u001b[38;5;124mPlease enter a number greater than 0: \u001b[39m\u001b[38;5;124m\"\u001b[39m))\n\u001b[0;32m      4\u001b[0m   \u001b[38;5;28;01mif\u001b[39;00m user_input \u001b[38;5;241m>\u001b[39m \u001b[38;5;241m0\u001b[39m:\n\u001b[0;32m      5\u001b[0m     valid_input \u001b[38;5;241m=\u001b[39m \u001b[38;5;28;01mTrue\u001b[39;00m\n",
      "\u001b[1;31mValueError\u001b[0m: invalid literal for int() with base 10: ''"
     ]
    }
   ],
   "source": [
    "valid_input = False\n",
    "while not valid_input:\n",
    "  user_input = int(input(\"Please enter a number greater than 0: \"))\n",
    "  if user_input > 0:\n",
    "    valid_input = True\n",
    "  else:\n",
    "    print(\"Invalid input. Please try again.\")"
   ]
  },
  {
   "cell_type": "markdown",
   "metadata": {},
   "source": [
    "### Sentencias condicionales: Introducción a la toma de decisiones"
   ]
  },
  {
   "cell_type": "markdown",
   "metadata": {},
   "source": [
    "`if-else` Sentencia: Ejecución ramificada  \n",
    "La sentencia if-else sigue una estructura sencilla. Si una condición es verdadera, se ejecuta el bloque de código dentro de la sentencia `if`; en caso contrario, se ejecuta el bloque de código dentro de la sentencia `else`. Esto permite la ejecución selectiva de código basada en criterios específicos.\n",
    "\n",
    "Considere un juego en el que un jugador gana puntos. Una sentencia `if-else` puede mostrar un mensaje de felicitación si la puntuación del jugador supera un determinado umbral, proporcionando comentarios y estímulos basados en su rendimiento."
   ]
  },
  {
   "cell_type": "code",
   "execution_count": null,
   "metadata": {},
   "outputs": [
    {
     "name": "stdout",
     "output_type": "stream",
     "text": [
      "Kepp trying to beat your hihg score!\n"
     ]
    }
   ],
   "source": [
    "player_score = 80\n",
    "\n",
    "if player_score >= 100:\n",
    "    print('Congratulations! Your score is over 100 points!')\n",
    "else:\n",
    "    print('Kepp trying to beat your hihg score!')"
   ]
  },
  {
   "cell_type": "markdown",
   "metadata": {},
   "source": [
    "### Desafío de programación: Adivina el número secreto"
   ]
  },
  {
   "cell_type": "markdown",
   "metadata": {},
   "source": [
    "**Su tarea:**  \n",
    "Creará un juego de adivinar números en el que el ordenador intentará adivinar un número secreto que usted le indique. El ordenador generará conjeturas aleatorias dentro de un rango (1 a 10) y continuará adivinando hasta que encuentre el número correcto.\n",
    "\n",
    "**Instrucciones:**  \n",
    "Configure su `secret_number`: Elija un número entre 1 y 10 y asígnele una variable llamada secret_number.\n",
    "\n",
    "Inicialice otra variable llamada `guess` con un valor de 0.\n",
    "\n",
    "Completa el bucle `while`: Añada la condición al bucle `while` para asegurarse de que continúa ejecutándose mientras `guess` no sea igual a su `secret_number`.\n",
    "\n",
    "**Ejemplo de salida:**  \n",
    "`Guessing: 3`\n",
    "\n",
    "`Guessing: 8`\n",
    "\n",
    "`Guessing: 1`\n",
    "\n",
    "`Guessing: 7`\n",
    "\n",
    "`I guessed the right number! It was 7`"
   ]
  },
  {
   "cell_type": "code",
   "execution_count": null,
   "metadata": {},
   "outputs": [
    {
     "name": "stdout",
     "output_type": "stream",
     "text": [
      "Guessing: 3\n",
      "Guessing: 4\n",
      "Guessing: 8\n",
      "I guessed the rigth number! It was 8\n"
     ]
    }
   ],
   "source": [
    "import random\n",
    "\n",
    "secret_number = 8\n",
    "guess = 0\n",
    "\n",
    "while guess != secret_number:\n",
    "    guess = random.randint(1, 10)\n",
    "    print(f'Guessing: {guess}')\n",
    "print(f'I guessed the rigth number! It was {guess}')\n"
   ]
  },
  {
   "cell_type": "markdown",
   "metadata": {},
   "source": [
    "### Listas y bucles "
   ]
  },
  {
   "cell_type": "markdown",
   "metadata": {},
   "source": [
    "En Python, una lista es una estructura de datos que almacena una colección ordenada de elementos. Estos elementos pueden ser de cualquier tipo. Las listas se definen encerrando los elementos entre corchetes [], separados por comas.\n",
    "\n",
    "Por ejemplo, una lista que contenga los nombres de las frutas podría declararse como sigue:"
   ]
  },
  {
   "cell_type": "code",
   "execution_count": null,
   "metadata": {},
   "outputs": [],
   "source": [
    "fruits = [\"apple\", \"banana\", \"watermelon\", \"grape\", \"orange\"]"
   ]
  },
  {
   "cell_type": "markdown",
   "metadata": {},
   "source": [
    "A cada elemento de una lista se le asigna un índice numérico, empezando por cero. Este índice representa la posición del elemento dentro de la lista. Para acceder a un elemento concreto, se utiliza su índice entre corchetes a continuación del nombre de la lista. Por ejemplo, para recuperar el primer elemento (\"manzana\") de la lista de frutas, se utilizaría:  "
   ]
  },
  {
   "cell_type": "code",
   "execution_count": null,
   "metadata": {},
   "outputs": [
    {
     "data": {
      "text/plain": [
       "'apple'"
      ]
     },
     "execution_count": 3,
     "metadata": {},
     "output_type": "execute_result"
    }
   ],
   "source": [
    "fruits[0]"
   ]
  },
  {
   "cell_type": "markdown",
   "metadata": {},
   "source": [
    "Hay muchas funciones de lista que verás en futuras lecturas. Una función de uso común es len, que se puede utilizar para determinar cuántos elementos hay en una lista."
   ]
  },
  {
   "cell_type": "code",
   "execution_count": null,
   "metadata": {},
   "outputs": [
    {
     "name": "stdout",
     "output_type": "stream",
     "text": [
      "5\n"
     ]
    }
   ],
   "source": [
    "fruits = [\"apple\", \"banana\", \"watermelon\", \"grape\", \"orange\"]\n",
    "fruits_length = len(fruits)\n",
    "print(fruits_length)"
   ]
  },
  {
   "cell_type": "markdown",
   "metadata": {},
   "source": [
    "A las listas también se les pueden añadir nuevos valores. Por ejemplo, si quieres añadir la fruta 'date' a la lista, puedes utilizar el método append:  "
   ]
  },
  {
   "cell_type": "code",
   "execution_count": null,
   "metadata": {},
   "outputs": [],
   "source": [
    "fruits.append(\"kiwi\")"
   ]
  },
  {
   "cell_type": "markdown",
   "metadata": {},
   "source": [
    "Las listas son muy versátiles y facilitan la organización y manipulación de datos dentro de un programa. Una operación común que se realiza en las listas es el recorrido, que implica acceder a cada elemento de forma secuencial. En este caso, los bucles `for` son particularmente adecuados para esta tarea. Este tipo de bucle `for` se conoce a menudo como bucle for each, porque permite recorrer cada elemento individual, de uno en uno"
   ]
  },
  {
   "cell_type": "code",
   "execution_count": null,
   "metadata": {},
   "outputs": [
    {
     "name": "stdout",
     "output_type": "stream",
     "text": [
      "Hello, Santiago!\n",
      "Hello, David!\n",
      "Hello, Ricardo!\n",
      "Hello, Daniel!\n",
      "Hello, Jorge!\n"
     ]
    }
   ],
   "source": [
    "students = ['Santiago', 'David', 'Ricardo', 'Daniel', 'Jorge']\n",
    "for student in students:\n",
    "    print(f'Hello, {student}!')"
   ]
  },
  {
   "cell_type": "markdown",
   "metadata": {},
   "source": [
    "Todos los bucles for each pueden hacerse usando un rango, pero la sintaxis es más complicada:"
   ]
  },
  {
   "cell_type": "code",
   "execution_count": null,
   "metadata": {},
   "outputs": [
    {
     "name": "stdout",
     "output_type": "stream",
     "text": [
      "Hello, Santiago!\n",
      "Hello, David!\n",
      "Hello, Ricardo!\n",
      "Hello, Daniel!\n",
      "Hello, Jorge!\n"
     ]
    }
   ],
   "source": [
    "students = ['Santiago', 'David', 'Ricardo', 'Daniel', 'Jorge']\n",
    "for i in range(len(students)):\n",
    "    print(f'Hello, {students[i]}!')"
   ]
  },
  {
   "cell_type": "markdown",
   "metadata": {},
   "source": [
    "***Aprovechar los bucles para la iteración***  \n",
    "`while` los bucles son inestimables para tareas con un número desconocido de repeticiones. Imagina que quieres simular una tirada de dados hasta obtener un 6:"
   ]
  },
  {
   "cell_type": "code",
   "execution_count": null,
   "metadata": {},
   "outputs": [
    {
     "name": "stdout",
     "output_type": "stream",
     "text": [
      "You rolled a 1\n",
      "You rolled a 1\n",
      "You rolled a 3\n",
      "You rolled a 1\n",
      "You rolled a 3\n",
      "You rolled a 6\n",
      "You win!\n"
     ]
    }
   ],
   "source": [
    "import random\n",
    "roll = 0\n",
    "\n",
    "while roll != 6:\n",
    "    roll = random.randint(1, 6)\n",
    "    print(f'You rolled a {roll}')\n",
    "print('You win!')"
   ]
  },
  {
   "cell_type": "markdown",
   "metadata": {},
   "source": [
    "**Contar y procesar datos con bucles**  \n",
    "Los bucles se integran perfectamente con el recuento y la manipulación de datos. Para calcular la suma de números del 1 al 100:"
   ]
  },
  {
   "cell_type": "code",
   "execution_count": null,
   "metadata": {},
   "outputs": [],
   "source": [
    "total = 0\n",
    "\n",
    "for i in range(1, 101):\n",
    "    total += i\n",
    "    print(f'acumulated total: {total}')"
   ]
  },
  {
   "cell_type": "markdown",
   "metadata": {},
   "source": [
    "`while` los bucles pueden realizar tareas más complejas, como filtrar números pares de una lista:"
   ]
  },
  {
   "cell_type": "code",
   "execution_count": null,
   "metadata": {},
   "outputs": [
    {
     "name": "stdout",
     "output_type": "stream",
     "text": [
      "2 is even\n",
      "4 is even\n",
      "6 is even\n",
      "8 is even\n",
      "10 is even\n",
      "12 is even\n",
      "14 is even\n",
      "16 is even\n",
      "18 is even\n",
      "20 is even\n",
      "22 is even\n",
      "24 is even\n"
     ]
    }
   ],
   "source": [
    "numbers = range(1, 25)\n",
    "index = 0\n",
    "\n",
    "while index < len(numbers):\n",
    "    if numbers[index] % 2 == 0:\n",
    "        print(f'{numbers[index]} is even')\n",
    "    index += 1"
   ]
  },
  {
   "cell_type": "markdown",
   "metadata": {},
   "source": [
    "### Bucles anidados: Amplificación de la iteración"
   ]
  },
  {
   "cell_type": "markdown",
   "metadata": {},
   "source": [
    "Los bucles son los caballos de batalla de las tareas repetitivas. Sin embargo, el verdadero poder de los bucles brilla cuando están anidados - un bucle dentro de otro. Este anidamiento abre la puerta a la iteración, permitiéndole utilizar estructuras de datos complejas y realizar operaciones intrincadas con facilidad.\n",
    "\n",
    "Imagina la tarea de generar una tabla de multiplicar clásica. Se trata de una cuadrícula de números en la que cada celda representa el producto de sus números de fila y columna. Los bucles anidados ofrecen una solución elegante. El bucle exterior itera sobre las filas, mientras que el bucle interior, anidado dentro, se encarga de las columnas. Para cada fila, el bucle interno sigue su curso, calculando y mostrando los productos para esa fila específica. Esta interacción de bucles da como resultado la generación sistemática de toda la tabla de multiplicar."
   ]
  },
  {
   "cell_type": "code",
   "execution_count": null,
   "metadata": {},
   "outputs": [
    {
     "name": "stdout",
     "output_type": "stream",
     "text": [
      "1 * 1 = 1\t2 * 1 = 2\t3 * 1 = 3\t4 * 1 = 4\t5 * 1 = 5\t6 * 1 = 6\t7 * 1 = 7\t8 * 1 = 8\t9 * 1 = 9\t10 * 1 = 10\t\n",
      "1 * 2 = 2\t2 * 2 = 4\t3 * 2 = 6\t4 * 2 = 8\t5 * 2 = 10\t6 * 2 = 12\t7 * 2 = 14\t8 * 2 = 16\t9 * 2 = 18\t10 * 2 = 20\t\n",
      "1 * 3 = 3\t2 * 3 = 6\t3 * 3 = 9\t4 * 3 = 12\t5 * 3 = 15\t6 * 3 = 18\t7 * 3 = 21\t8 * 3 = 24\t9 * 3 = 27\t10 * 3 = 30\t\n",
      "1 * 4 = 4\t2 * 4 = 8\t3 * 4 = 12\t4 * 4 = 16\t5 * 4 = 20\t6 * 4 = 24\t7 * 4 = 28\t8 * 4 = 32\t9 * 4 = 36\t10 * 4 = 40\t\n",
      "1 * 5 = 5\t2 * 5 = 10\t3 * 5 = 15\t4 * 5 = 20\t5 * 5 = 25\t6 * 5 = 30\t7 * 5 = 35\t8 * 5 = 40\t9 * 5 = 45\t10 * 5 = 50\t\n",
      "1 * 6 = 6\t2 * 6 = 12\t3 * 6 = 18\t4 * 6 = 24\t5 * 6 = 30\t6 * 6 = 36\t7 * 6 = 42\t8 * 6 = 48\t9 * 6 = 54\t10 * 6 = 60\t\n",
      "1 * 7 = 7\t2 * 7 = 14\t3 * 7 = 21\t4 * 7 = 28\t5 * 7 = 35\t6 * 7 = 42\t7 * 7 = 49\t8 * 7 = 56\t9 * 7 = 63\t10 * 7 = 70\t\n",
      "1 * 8 = 8\t2 * 8 = 16\t3 * 8 = 24\t4 * 8 = 32\t5 * 8 = 40\t6 * 8 = 48\t7 * 8 = 56\t8 * 8 = 64\t9 * 8 = 72\t10 * 8 = 80\t\n",
      "1 * 9 = 9\t2 * 9 = 18\t3 * 9 = 27\t4 * 9 = 36\t5 * 9 = 45\t6 * 9 = 54\t7 * 9 = 63\t8 * 9 = 72\t9 * 9 = 81\t10 * 9 = 90\t\n",
      "1 * 10 = 10\t2 * 10 = 20\t3 * 10 = 30\t4 * 10 = 40\t5 * 10 = 50\t6 * 10 = 60\t7 * 10 = 70\t8 * 10 = 80\t9 * 10 = 90\t10 * 10 = 100\t\n"
     ]
    }
   ],
   "source": [
    "for i in range(1, 11):\n",
    "    for j in range(1, 11):\n",
    "        print(f'{j} * {i} = {i * j}', end='\\t')\n",
    "    print()"
   ]
  },
  {
   "cell_type": "markdown",
   "metadata": {},
   "source": [
    "### Desafío de código funcional: Aprovechando los bucles for"
   ]
  },
  {
   "cell_type": "markdown",
   "metadata": {},
   "source": [
    "En este ejercicio, usted utilizará un bucle for para contar el número de veces que una palabra en particular aparece en una oración.\n",
    "\n",
    "Se ha incluido código de inicio:\n",
    "\n",
    "* Una función `get_word_count` que recibe dos argumentos: `word_to_count` y `sentence` \n",
    "\n",
    "* Una palabra de ejemplo a contar y la frase en las siguientes variables:\n",
    "\n",
    "    * `word_to_count` contiene la palabra específica que queremos contar\n",
    "\n",
    "    * `sentence` contiene la cadena de frases a partir de la cual queremos contar las palabras\n",
    "\n",
    "**Tarea:**\n",
    "\n",
    "1. Crear una función con 2 parámetros (se proporciona el código)  \n",
    "\n",
    "2. Divida la variable sentencia en palabras utilizando el método `split()`  y asígnela a una nueva variable `words`.\n",
    "\n",
    "3. Cree una nueva variable count y asígnele el valor 0.\n",
    "\n",
    "4. Recorra la variable `words` y cuente todas las palabras que sean iguales a `word_to_count`.\n",
    "\n",
    "5. Imprima el resultado en el siguiente formato: `print(f\"The word '{word_to_count}' appears {count} times in the sentence.\")`"
   ]
  },
  {
   "cell_type": "code",
   "execution_count": null,
   "metadata": {},
   "outputs": [
    {
     "name": "stdout",
     "output_type": "stream",
     "text": [
      "The word 'happy' appears 3 times in the sentence.\n"
     ]
    }
   ],
   "source": [
    "# Step 1: Starter code: function with 2 parameters: word_to_count and sentence (provided)\n",
    "def get_word_count(word_to_count, sentence):\n",
    "    # Step 2: Split the sentence into words\n",
    "    words = sentence.split()\n",
    "    \n",
    "    # Step 3: Initialize the count variable\n",
    "    count = 0\n",
    "\n",
    "    # Step 4: Use a for loop to iterate over the words and count occurrences\n",
    "    for word in words:\n",
    "        if word == word_to_count:\n",
    "            count += 1\n",
    "    \n",
    "    # Step 5: Print the result\n",
    "    print(f\"The word '{word_to_count}' appears {count} times in the sentence.\")\n",
    "\n",
    "word_to_count = \"happy\"\n",
    "sentence = \"In a happy home, a happy heart creates a happy space.\"\n",
    "# This will call the created function\n",
    "get_word_count(word_to_count, sentence)"
   ]
  },
  {
   "cell_type": "markdown",
   "metadata": {},
   "source": [
    "### Sentencias condicionales: Tomar decisiones"
   ]
  },
  {
   "cell_type": "markdown",
   "metadata": {},
   "source": [
    "Imagine las sentencias condicionales como la lógica \"si-entonces-si\" de la programación. Permiten al código evaluar una situación y seleccionar una acción en función de si una condición es verdadera o falsa. Por ejemplo, una aplicación meteorológica podría utilizar condicionales para aconsejar \"¡ponte una chaqueta!\" si la temperatura desciende por debajo de un cierto punto, o sugerir un atuendo más ligero en caso contrario.\n",
    "\n",
    "En Python, la piedra angular de las sentencias condicionales es la sentencia `if`."
   ]
  },
  {
   "cell_type": "code",
   "execution_count": null,
   "metadata": {},
   "outputs": [
    {
     "name": "stdout",
     "output_type": "stream",
     "text": [
      "It is warm! Enjoy the sunshine.\n"
     ]
    }
   ],
   "source": [
    "temperature = 22 #example\n",
    "\n",
    "if temperature < 20:\n",
    "    print('It might be cold! You might need a jacket.')\n",
    "else:\n",
    "    print('It is warm! Enjoy the sunshine.')"
   ]
  },
  {
   "cell_type": "markdown",
   "metadata": {},
   "source": [
    "Este código demuestra cómo utilizar las sentencias `if` y `else` para crear una sencilla estructura de toma de decisiones basada en diferentes rangos de temperatura, proporcionando recomendaciones apropiadas para el tiempo.\n",
    "\n",
    "Puede refinar la toma de decisiones de su código incorporando `elif` (abreviatura de \"else if\") para evaluar varias condiciones secuencialmente. Esto le permite proporcionar mensajes diferentes para temperaturas frías, templadas y cálidas."
   ]
  },
  {
   "cell_type": "code",
   "execution_count": null,
   "metadata": {},
   "outputs": [
    {
     "name": "stdout",
     "output_type": "stream",
     "text": [
      "A light sweater should be fine. It's a bit chilly.\n"
     ]
    }
   ],
   "source": [
    "temperature = 15\n",
    "\n",
    "if temperature < 10:\n",
    "    print(\"Wear a jacket! It's cold out there.\")\n",
    "elif 10 <= temperature < 20:\n",
    "    print(\"A light sweater should be fine. It's a bit chilly.\")\n",
    "elif 20 <= temperature < 30:\n",
    "    print(\"Enjoy the pleasant weather! No need for extra layers.\")\n",
    "else:\n",
    "    print(\"It's hot! Stay hydrated and wear sunscreen.\")"
   ]
  },
  {
   "cell_type": "markdown",
   "metadata": {},
   "source": [
    "### Desafío de programación: Número impar"
   ]
  },
  {
   "cell_type": "markdown",
   "metadata": {},
   "source": [
    "Escribe un programa en Python que tome una lista de números e itere por cada número y compruebe si es par o impar. Utiliza la lista de números proporcionada como punto de partida.\n",
    "\n",
    "* **Iterar sobre la lista de números:** Utilice un bucle for para iterar sobre la lista proporcionada (`for number in numbers:`). Utilice el nombre de variable `number` para la variable.\n",
    "\n",
    "* **Comprobar par/impar:** Utilice una sentencia condicional para determinar si cada número es par o impar.\n",
    "\n",
    "* **Mostrar salida:** Imprima un mensaje indicando si los números son pares o impares.\n",
    "\n",
    "**Consejos:**\n",
    "* Puede utilizar el operador módulo (%) para comprobar si un número es divisible por 2. Si el resto de la división entre 2 es divisible por 2, el resultado será divisible por 2.\n",
    "\n",
    "* Si el resto de la división por 2 es 0, el número es par.\n",
    "\n",
    "* En caso contrario, es impar."
   ]
  },
  {
   "cell_type": "code",
   "execution_count": null,
   "metadata": {},
   "outputs": [
    {
     "name": "stdout",
     "output_type": "stream",
     "text": [
      "3 \t is odd\n",
      "9 \t is odd\n",
      "1 \t is odd\n",
      "10 \t is even\n",
      "5 \t is odd\n",
      "2 \t is even\n",
      "8 \t is even\n"
     ]
    }
   ],
   "source": [
    "numbers = [3, 9, 1, 10, 5, 2, 8]\n",
    "\n",
    "for number in numbers:\n",
    "    if number % 2 == 0:\n",
    "        print(f'{number} \\t is even')\n",
    "    else:\n",
    "        print(f'{number} \\t is odd')"
   ]
  },
  {
   "cell_type": "markdown",
   "metadata": {},
   "source": [
    "### Errores comunes en la ejecución de código: Cómo evitarlos"
   ]
  },
  {
   "cell_type": "markdown",
   "metadata": {},
   "source": [
    "**1.** Errores de sangría  \n",
    "Python es conocido por sus estrictas reglas de sangría. A diferencia de muchos otros lenguajes que usan llaves u otros delimitadores para definir bloques de código, Python confía en la sangría para indicar la estructura de tu código. Una sangría mal colocada puede conducir a un comportamiento inesperado o a errores directos.\n",
    "\n",
    "Imagina una simple sentencia if-else en la que el bloque else tiene una sangría incorrecta:"
   ]
  },
  {
   "cell_type": "code",
   "execution_count": null,
   "metadata": {},
   "outputs": [
    {
     "ename": "IndentationError",
     "evalue": "unindent does not match any outer indentation level (<string>, line 5)",
     "output_type": "error",
     "traceback": [
      "\u001b[1;36m  File \u001b[1;32m<string>:5\u001b[1;36m\u001b[0m\n\u001b[1;33m    else: # IndentationError\u001b[0m\n\u001b[1;37m                            ^\u001b[0m\n\u001b[1;31mIndentationError\u001b[0m\u001b[1;31m:\u001b[0m unindent does not match any outer indentation level\n"
     ]
    }
   ],
   "source": [
    "x = 10\n",
    "\n",
    "if x > 5:\n",
    "        print('x is greater than 5')\n",
    "    else: # IndentationError\n",
    "        print('x is less than or equal to 5')"
   ]
  },
  {
   "cell_type": "markdown",
   "metadata": {},
   "source": [
    "**2.** Ámbito de las variables\n",
    "En Python, las variables tienen un ámbito, que define la región de tu código donde la variable es accesible. Un error común es intentar acceder a una variable fuera de su ámbito.\n",
    "\n",
    "Considera este ejemplo:"
   ]
  },
  {
   "cell_type": "code",
   "execution_count": null,
   "metadata": {},
   "outputs": [
    {
     "ename": "NameError",
     "evalue": "name 'x' is not defined",
     "output_type": "error",
     "traceback": [
      "\u001b[1;31m---------------------------------------------------------------------------\u001b[0m",
      "\u001b[1;31mNameError\u001b[0m                                 Traceback (most recent call last)",
      "Cell \u001b[1;32mIn[1], line 7\u001b[0m\n\u001b[0;32m      4\u001b[0m     x \u001b[38;5;241m=\u001b[39m \u001b[38;5;241m10\u001b[39m\n\u001b[0;32m      5\u001b[0m     \u001b[38;5;28mprint\u001b[39m(x) \u001b[38;5;66;03m# No problem\u001b[39;00m\n\u001b[1;32m----> 7\u001b[0m \u001b[38;5;28mprint\u001b[39m(x)\n",
      "\u001b[1;31mNameError\u001b[0m: name 'x' is not defined"
     ]
    }
   ],
   "source": [
    "flag = False\n",
    "\n",
    "if flag:\n",
    "    x = 10\n",
    "    print(x) # No problem\n",
    "\n",
    "print(x) # No error if flag is True"
   ]
  },
  {
   "cell_type": "markdown",
   "metadata": {},
   "source": [
    "**3.** Valores inmutables\n",
    " En Python, las cadenas son inmutables, lo que significa que su contenido no puede ser cambiado después de ser creadas. El código siguiente intenta cambiar el primer carácter de la cadena \"Hola\" de 'H' a 'h'. Sin embargo, esto resultará en un `TypeError` porque las cadenas son inmutables.  "
   ]
  },
  {
   "cell_type": "code",
   "execution_count": null,
   "metadata": {},
   "outputs": [
    {
     "ename": "TypeError",
     "evalue": "'str' object does not support item assignment",
     "output_type": "error",
     "traceback": [
      "\u001b[1;31m---------------------------------------------------------------------------\u001b[0m",
      "\u001b[1;31mTypeError\u001b[0m                                 Traceback (most recent call last)",
      "Cell \u001b[1;32mIn[2], line 2\u001b[0m\n\u001b[0;32m      1\u001b[0m value \u001b[38;5;241m=\u001b[39m \u001b[38;5;124m\"\u001b[39m\u001b[38;5;124mHello\u001b[39m\u001b[38;5;124m\"\u001b[39m\n\u001b[1;32m----> 2\u001b[0m value[\u001b[38;5;241m0\u001b[39m] \u001b[38;5;241m=\u001b[39m \u001b[38;5;124m'\u001b[39m\u001b[38;5;124mh\u001b[39m\u001b[38;5;124m'\u001b[39m\n\u001b[0;32m      3\u001b[0m \u001b[38;5;28mprint\u001b[39m(value)\n",
      "\u001b[1;31mTypeError\u001b[0m: 'str' object does not support item assignment"
     ]
    }
   ],
   "source": [
    "value = \"Hello\"\n",
    "value[0] = 'h'\n",
    "print(value)"
   ]
  },
  {
   "cell_type": "markdown",
   "metadata": {},
   "source": [
    "**4.** Pasar por alto las excepciones\n",
    "Las excepciones son eventos que interrumpen el flujo normal del código. No manejar las excepciones puede hacer que su programa se bloquee. Estos eventos pueden ser desencadenados por varios factores, como entradas inválidas, intentos de acceder a archivos inexistentes, o incluso simples errores matemáticos como dividir por cero, como se muestra en el ejemplo:"
   ]
  },
  {
   "cell_type": "code",
   "execution_count": 5,
   "metadata": {},
   "outputs": [
    {
     "ename": "ZeroDivisionError",
     "evalue": "division by zero",
     "output_type": "error",
     "traceback": [
      "\u001b[1;31m---------------------------------------------------------------------------\u001b[0m",
      "\u001b[1;31mZeroDivisionError\u001b[0m                         Traceback (most recent call last)",
      "Cell \u001b[1;32mIn[5], line 4\u001b[0m\n\u001b[0;32m      1\u001b[0m x \u001b[38;5;241m=\u001b[39m \u001b[38;5;241m10\u001b[39m\n\u001b[0;32m      2\u001b[0m y \u001b[38;5;241m=\u001b[39m \u001b[38;5;241m0\u001b[39m\n\u001b[1;32m----> 4\u001b[0m result \u001b[38;5;241m=\u001b[39m x \u001b[38;5;241m/\u001b[39m y\n",
      "\u001b[1;31mZeroDivisionError\u001b[0m: division by zero"
     ]
    }
   ],
   "source": [
    "x = 10\n",
    "y = 0\n",
    " \n",
    "result = x / y  # ZeroDivisionError"
   ]
  },
  {
   "cell_type": "markdown",
   "metadata": {},
   "source": [
    "En este caso, cuando el intérprete intenta ejecutar `result = x / y`, se encuentra con un obstáculo importante: ¡no se puede dividir un número por cero! Esto desencadena una excepción `ZeroDivisionError`, que, si no se controla, hará que el programa se detenga.\n",
    "\n",
    "**Solución:**  Excepciones como `ZeroDivisionError` serán tratadas con más detalle en un punto posterior del curso. Cuando existe una posibilidad o una excepción (como intentar abrir un archivo que no existe, o referenciar una variable que no existe), usarás bloques try-except para manejar las excepciones con gracia, como este ejemplo de código:  "
   ]
  },
  {
   "cell_type": "code",
   "execution_count": 6,
   "metadata": {},
   "outputs": [
    {
     "name": "stdout",
     "output_type": "stream",
     "text": [
      "Error: Division by zero!\n"
     ]
    }
   ],
   "source": [
    "x = 10\n",
    "y = 0\n",
    "\n",
    "try:\n",
    "    result = x / y\n",
    "except ZeroDivisionError:\n",
    "    print(\"Error: Division by zero!\")"
   ]
  },
  {
   "cell_type": "markdown",
   "metadata": {},
   "source": [
    "### **Actividad: Variables y bucles**"
   ]
  },
  {
   "cell_type": "markdown",
   "metadata": {},
   "source": [
    "**Paso 1: Almacenar los datos de temperatura**  \n",
    "\n",
    "**Instrucciones:**  \n",
    "Necesita dos listas para almacenar los datos de temperatura.\n",
    "\n",
    "* La primera lista, ``celsius_temperatures``, ya ha sido creada.\n",
    "\n",
    "* Añada a ella las siguientes temperaturas Celsius de muestra: ``0, 10, 25, 32, 100`` a ``celsius_temperatures``.\n",
    "\n",
    "* Cree la segunda lista, ``fahrenheit_temperatures``, como una lista vacía para almacenar las temperaturas Fahrenheit convertidas más tarde. En este momento debería ser una lista vacía.\n",
    "\n",
    "* Imprime ambas listas para observar su estado inicial."
   ]
  },
  {
   "cell_type": "code",
   "execution_count": 7,
   "metadata": {},
   "outputs": [
    {
     "name": "stdout",
     "output_type": "stream",
     "text": [
      "Celsius Temperatires: [0, 10, 25, 32, 100]\n",
      "Fahrenheit Temperatures: []\n"
     ]
    }
   ],
   "source": [
    "#Create a list and add sample Celsius temperatures\n",
    "celsius_temperatures = []\n",
    "\n",
    "celsius_temperatures = [0, 10, 25, 32, 100]\n",
    "\n",
    "fahrenheit_temperatures = []\n",
    "\n",
    "print('Celsius Temperatires:', celsius_temperatures)\n",
    "print('Fahrenheit Temperatures:', fahrenheit_temperatures)"
   ]
  },
  {
   "cell_type": "markdown",
   "metadata": {},
   "source": [
    "**Paso 2: Convertir temperaturas**\n",
    "\n",
    "**Instrucciones:**\n",
    "Es hora de convertir las temperaturas Celsius a Fahrenheit:\n",
    "\n",
    "* Se le ha proporcionado un bucle ``for`` para iterar a través de cada valor ``celsius`` en la lista ``celsius_temperatures``.\n",
    "\n",
    "* Dentro del bucle:\n",
    "\n",
    "    * Aplica la fórmula de conversión de Celsius a Fahrenheit: ``F = (C * 9/5) + 32``, donde ``F`` es la temperatura Fahrenheit y ``C`` es la temperatura Celsius.\n",
    "\n",
    "* Se ha proporcionado el código para almacenar cada valor calculado de ``fahrenheit`` en la lista ``fahrenheit_temperatures`` utilizando el método ``append()``.\n",
    "\n",
    "* Imprimir los resultados\n",
    "\n"
   ]
  },
  {
   "cell_type": "code",
   "execution_count": null,
   "metadata": {},
   "outputs": [
    {
     "name": "stdout",
     "output_type": "stream",
     "text": [
      "Celsius Temperatires: [0, 10, 25, 32, 100]\n",
      "Fahrenheit Temperatures: [32.0, 50.0, 77.0, 89.6, 212.0]\n"
     ]
    }
   ],
   "source": [
    "#Convert each Celsius temperature to Fahrenheit\n",
    "\n",
    "for celsius in celsius_temperatures: # Iterate over the list of Celsius temperatures\n",
    "    fahrenheit = (celsius * 9/5) + 32\n",
    "    fahrenheit_temperatures.append(fahrenheit) # Append the converted temperature to the list\n",
    "print('Celsius Temperatires:', celsius_temperatures)\n",
    "print('Fahrenheit Temperatures:', fahrenheit_temperatures)"
   ]
  },
  {
   "cell_type": "markdown",
   "metadata": {},
   "source": [
    "## Organizar sus datos"
   ]
  },
  {
   "cell_type": "markdown",
   "metadata": {},
   "source": [
    "### Introducción a listas"
   ]
  },
  {
   "cell_type": "code",
   "execution_count": 13,
   "metadata": {},
   "outputs": [],
   "source": [
    "#Empty list\n",
    "new_list = []\n",
    "\n",
    "#Prime numbers\n",
    "prime_numbers = [2, 3, 5, 7, 11, 13, 17, 19]\n",
    "\n",
    "#Vocals\n",
    "vowels = ['a', 'e', 'i', 'o', 'u']\n",
    "\n",
    "#True or False\n",
    "true_or_false = [True, False, True, False]\n",
    "\n",
    "#Mixed data types\n",
    "mixed = [1, 'apple', True, 3.14]"
   ]
  },
  {
   "cell_type": "markdown",
   "metadata": {},
   "source": [
    "Utilizando una lista de la compra como ejemplo, puedes familiarizarte con algunas formas comunes de manipular una lista. Primero, declare una lista que contenga su lista de la compra."
   ]
  },
  {
   "cell_type": "code",
   "execution_count": 14,
   "metadata": {},
   "outputs": [
    {
     "name": "stdout",
     "output_type": "stream",
     "text": [
      "['milk', 'eggs', 'bread', 'rice', 'pasta']\n"
     ]
    }
   ],
   "source": [
    "grocery_list = ['milk', 'eggs', 'bread', 'rice', 'pasta']\n",
    "\n",
    "#Print the list\n",
    "print(grocery_list)"
   ]
  },
  {
   "cell_type": "markdown",
   "metadata": {},
   "source": [
    "**Indexación**  \n",
    "En una lista, cada elemento está representado por un número. En la lista de la tienda de comestibles, el primer elemento de la lista es la leche. Se dice que tiene un índice 0. El segundo elemento está en el índice 1, y así sucesivamente. \n",
    "\n",
    "| index | value  |\n",
    "|--------|-----------|\n",
    "| 0      | milk      |\n",
    "| 1      | eggs      |\n",
    "| 2      | bread     |\n",
    "| 3      | rice      |\n",
    "| 4      | pasta     |"
   ]
  },
  {
   "cell_type": "code",
   "execution_count": 15,
   "metadata": {},
   "outputs": [
    {
     "name": "stdout",
     "output_type": "stream",
     "text": [
      "milk\n",
      "5\n",
      "pasta\n"
     ]
    }
   ],
   "source": [
    "#Access the first element\n",
    "print(grocery_list[0])\n",
    "\n",
    "#List length\n",
    "print(len(grocery_list))\n",
    "\n",
    "#Print the last element\n",
    "print(grocery_list[-1])\n",
    "\n"
   ]
  },
  {
   "cell_type": "markdown",
   "metadata": {},
   "source": [
    "**Rebanar: Acceso a una parte de la lista**\n",
    "A veces, sólo necesita una parte de la lista. Imagina que sólo quieres ver los dos primeros elementos de una lista. Python te permite extraer una \"porción\" de tu lista, como ésta:\n",
    "\n",
    "``print(grocery_list[0:2])``\n",
    "\n",
    "El 0:2 significa que queremos los elementos desde el índice 0 (que es \"leche\") hasta el índice 2, pero sin incluirlo. El resultado serían los valores leche y hummus."
   ]
  },
  {
   "cell_type": "code",
   "execution_count": 16,
   "metadata": {},
   "outputs": [
    {
     "name": "stdout",
     "output_type": "stream",
     "text": [
      "['milk', 'eggs']\n"
     ]
    }
   ],
   "source": [
    "print(grocery_list[0:2])"
   ]
  },
  {
   "cell_type": "markdown",
   "metadata": {},
   "source": [
    "**Comprensión de listas: Un enfoque conciso**\n",
    "\n",
    "Supongamos que tienes una lista de números y quieres crear una nueva lista que contenga sólo los números pares. Podrías hacerlo con un bucle, pero Python ofrece un enfoque más conciso llamado \"comprensión de lista\". Esto también se llama bucle for-each.\n",
    "\n",
    "Escenario: Tienes una lista de puntuaciones de los alumnos en un examen, y te gustaría calcular la media. Tendrá que calcular el total de las puntuaciones del examen y luego dividirlo por el número de elementos:"
   ]
  },
  {
   "cell_type": "code",
   "execution_count": 17,
   "metadata": {},
   "outputs": [
    {
     "name": "stdout",
     "output_type": "stream",
     "text": [
      "The average score is 84.0\n"
     ]
    }
   ],
   "source": [
    "average_score = 0\n",
    "\n",
    "exam_scores = [80, 90, 85, 70, 95]\n",
    "\n",
    "#Initialize the total score\n",
    "total_score = 0\n",
    "\n",
    "#Iterate over the list of exam scores\n",
    "for score in exam_scores:\n",
    "    total_score += score\n",
    "\n",
    "#Calculate the average score\n",
    "average_score = total_score / len(exam_scores)\n",
    "\n",
    "#Print the average score\n",
    "print(f'The average score is {average_score}')"
   ]
  },
  {
   "cell_type": "markdown",
   "metadata": {},
   "source": [
    "**Listas bidimensionales: Listas dentro de listas**\n",
    "\n",
    "Al igual que puedes poner diferentes tipos de cosas en una lista, ¡puedes incluso poner otras listas dentro de una lista! Esto se llama \"lista bidimensional\" o \"lista de listas\" Es como tener un armario con cajones, y que cada cajón contenga distintos tipos de objetos. En un ejemplo del mundo real, si estuvieras creando un juego de damas, necesitarías utilizar una lista bidimensional.\n",
    "\n",
    "Por ejemplo, imagina que quieres representar una cuadrícula de números:"
   ]
  },
  {
   "cell_type": "code",
   "execution_count": 18,
   "metadata": {},
   "outputs": [
    {
     "name": "stdout",
     "output_type": "stream",
     "text": [
      "8\n"
     ]
    }
   ],
   "source": [
    "grid = [\n",
    "    [1, 2, 3],\n",
    "    [4, 5, 6],\n",
    "    [7, 8, 9]\n",
    "]\n",
    "\n",
    "#Acces the number 8\n",
    "print(grid[2][1])"
   ]
  },
  {
   "cell_type": "markdown",
   "metadata": {},
   "source": [
    "**Operaciones avanzadas con listas**"
   ]
  },
  {
   "cell_type": "code",
   "execution_count": 19,
   "metadata": {},
   "outputs": [
    {
     "name": "stdout",
     "output_type": "stream",
     "text": [
      "5\n",
      "['milk', 'hummus', 'bread', 'cheese', 'apples', 'eggs']\n",
      "['milk', 'yogurt', 'hummus', 'bread', 'cheese', 'apples', 'eggs']\n",
      "['milk', 'yogurt', 'hummus', 'cheese', 'apples', 'eggs']\n",
      "['yogurt', 'hummus', 'cheese', 'apples', 'eggs']\n",
      "['yogurt', 'hummus', 'cheese', 'apples']\n",
      "['apples', 'cheese', 'hummus', 'yogurt']\n",
      "['yogurt', 'hummus', 'cheese', 'apples']\n",
      "1\n"
     ]
    }
   ],
   "source": [
    "grocery_list = [\"milk\", \"hummus\", \"bread\", \"cheese\", \"apples\"]\n",
    "\n",
    "\n",
    "#Length of the list\n",
    "print(len(grocery_list))\n",
    "\n",
    "\n",
    "#Append an item to the list\n",
    "grocery_list.append(\"eggs\")\n",
    "print(grocery_list)\n",
    "\n",
    "#Insert an item at a specific index\n",
    "grocery_list.insert(1, \"yogurt\")\n",
    "print(grocery_list)\n",
    "\n",
    "#Remove an item from the list\n",
    "grocery_list.remove(\"bread\")\n",
    "print(grocery_list)\n",
    "\n",
    "#Remove an item by index\n",
    "del grocery_list[0]\n",
    "print(grocery_list)\n",
    "\n",
    "#Remove the last item from the list\n",
    "grocery_list.pop()\n",
    "print(grocery_list)\n",
    "\n",
    "#Sort the list\n",
    "grocery_list.sort()\n",
    "print(grocery_list)\n",
    "\n",
    "#Reverse the list\n",
    "grocery_list.reverse()\n",
    "print(grocery_list)\n",
    "\n",
    "#count the number of times an item appears in the list\n",
    "print(grocery_list.count(\"apples\"))\n"
   ]
  },
  {
   "cell_type": "markdown",
   "metadata": {},
   "source": [
    "### Actividad: Trabajar con una lista"
   ]
  },
  {
   "cell_type": "markdown",
   "metadata": {},
   "source": [
    "**Escenario**\n",
    "\n",
    "Imagínese que va al supermercado, pero se le olvidan constantemente los productos que necesita. Es frustrante y te obliga a hacer varias veces la compra ¿No sería estupendo contar con un ayudante digital que te ayudara a hacer la lista de la compra? \n",
    "\n",
    "Aquí es donde entra Python. Construirás un sencillo programa que te permitirá añadir artículos a tu lista de la compra virtual, cargar artículos desde un Archivo CSV y gestionar tu lista de la compra de forma eficiente. Se acabaron los huevos y la leche \n",
    "\n",
    "**Objetivo**\n",
    "\n",
    "El objetivo de esta actividad es introducirte en la aplicación práctica de las listas de Python, que son como contenedores ordenados que almacenan colecciones de elementos. Aprenderás a crear, manipular e interactuar con listas, adquiriendo experiencia práctica con conceptos esenciales de programación. Verás cómo las listas son perfectas para hacer la compra porque mantienen el orden de los elementos, te permiten añadir o quitar cosas fácilmente según sea necesario, e incluso pueden almacenar diferentes tipos de información (como nombres de elementos y cantidades). \n",
    "\n",
    "Utilizará acciones especiales denominadas métodos, como ``append()`` y ``remove()``, para gestionar eficazmente su lista. Además, explorarás cómo cargar datos de archivos externos, como Valores separados por comas (CSV) en tu programa Python, ampliando aún más tus capacidades de manejo de datos. Al final de esta actividad, tendrás una lista de la compra digital funcional y una base sólida para trabajar con listas, una estructura de datos fundamental en Python."
   ]
  },
  {
   "cell_type": "markdown",
   "metadata": {},
   "source": [
    "**Paso 1: Cargar la lista de la compra inicial desde un Archivo CSV**\n",
    "\n",
    "Empecemos cargando la lista de la compra desde un Archivo CSV (Valores separados por coma). Piense en un archivo CSV como una simple hoja de cálculo donde cada fila representa un elemento de su lista. Utilizaremos la biblioteca 'pandas', una potente herramienta para trabajar con datos en Python, para leer el Archivo CSV y extraer los elementos en una lista de Python.\n",
    "\n",
    "Ya se ha proporcionado un Archivo CSV ('lista_comestibles.csv') que contiene un conjunto inicial de artículos de alimentación.\n",
    "\n",
    "El código necesario para importar la librería pandas, cargar el Archivo CSV, y extraer su contenido en una lista Python llamada ``grocery_list`` también está presente.\n",
    "\n",
    "Simplemente ejecute la celda para imprimir el contenido de ``grocery_list`` y observe la salida."
   ]
  },
  {
   "cell_type": "code",
   "execution_count": 20,
   "metadata": {},
   "outputs": [
    {
     "name": "stdout",
     "output_type": "stream",
     "text": [
      "['Milk', 'Eggs', 'Bread', 'Apples', 'Bananas', 'Oranges', 'Grapes', 'Strawberries', 'Blueberries', 'Pineapple', 'Mango', 'Avocado', 'Tomato', 'Cucumber', 'Lettuce', 'Spinach', 'Broccoli', 'Carrots', 'Potatoes', 'Onions', 'Garlic', 'Ginger', 'Chicken', 'Beef', 'Pork', 'Salmon', 'Tuna', 'Rice', 'Pasta', 'Bread (whole wheat)', 'Cereal', 'Oatmeal', 'Yogurt', 'Milk (almond)', 'Cheese (cheddar)', 'Eggs (organic)', 'Butter', 'Olive oil', 'Salt', 'Pepper', 'Sugar', 'Coffee', 'Tea', 'Chocolate', 'Cookies', 'Chips', 'Ice cream', 'Pizza', 'Pasta sauce', 'Ketchup', 'Mustard']\n"
     ]
    }
   ],
   "source": [
    "import pandas as pd\n",
    "\n",
    "# Load the grocery list from the CSV file\n",
    "grocery_list_df = pd.read_csv('src/grocery_list.csv')\n",
    "\n",
    "# Extract the items from the DataFrame and store them in a list\n",
    "grocery_list = grocery_list_df['item'].tolist()\n",
    "\n",
    "# Print the grocery list and inspect the output\n",
    "print(grocery_list) "
   ]
  },
  {
   "cell_type": "markdown",
   "metadata": {},
   "source": [
    "**Paso 2: Añadir artículos a la lista**\n",
    "\n",
    "Ahora, imaginemos que estás en casa añadiendo elementos a tu lista. Simularemos esto añadiendo un par de elementos directamente a tu lista de Python. Para ello, utilizarás una acción especial llamada método ``append()``. Los métodos son como funciones integradas que realizan tareas específicas.  En este caso, ``append()`` añade elementos al final de la lista, como si los anotaras al final de una lista de papel.\n",
    "\n",
    "Utilice el método ``append()`` para añadir \"Kiwis\" y \"Frambuesas\" a la lista ``items_to_add`` y ejecute la celda.\n",
    "\n",
    "Introduce el artículo que desees cuando se te pida, que también se añadirá a la lista.\n",
    "\n",
    "Observe la lista de la compra actualizada con los artículos recién añadidos impresos en la consola."
   ]
  },
  {
   "cell_type": "code",
   "execution_count": 21,
   "metadata": {},
   "outputs": [
    {
     "name": "stdout",
     "output_type": "stream",
     "text": [
      "['Milk', 'Eggs', 'Bread', 'Apples', 'Bananas', 'Oranges', 'Grapes', 'Strawberries', 'Blueberries', 'Pineapple', 'Mango', 'Avocado', 'Tomato', 'Cucumber', 'Lettuce', 'Spinach', 'Broccoli', 'Carrots', 'Potatoes', 'Onions', 'Garlic', 'Ginger', 'Chicken', 'Beef', 'Pork', 'Salmon', 'Tuna', 'Rice', 'Pasta', 'Bread (whole wheat)', 'Cereal', 'Oatmeal', 'Yogurt', 'Milk (almond)', 'Cheese (cheddar)', 'Eggs (organic)', 'Butter', 'Olive oil', 'Salt', 'Pepper', 'Sugar', 'Coffee', 'Tea', 'Chocolate', 'Cookies', 'Chips', 'Ice cream', 'Pizza', 'Pasta sauce', 'Ketchup', 'Mustard', 'Kiwi', 'Raspberries']\n"
     ]
    }
   ],
   "source": [
    "#Add items to the list\n",
    "items_to_add = ['Kiwi','Raspberries']\n",
    "\n",
    "for item in items_to_add:\n",
    "    grocery_list.append(item)\n",
    "\n",
    "print(grocery_list)"
   ]
  },
  {
   "cell_type": "markdown",
   "metadata": {},
   "source": [
    "**Paso 3: Eliminar artículos de la lista**\n",
    "\n",
    "Vaya, parece que ya tiene algunos artículos en casa. No se preocupe Aprenderá a eliminar artículos de su lista utilizando otro práctico método llamado ``remove()``. Esto es esencial para mantener su lista exacta y evitar compras innecesarias.\n",
    "\n",
    "Utilice el método ``remove()`` para eliminar \"Huevos\" y \"Manzanas\" de ``grocery_list`` y ejecute la celda."
   ]
  },
  {
   "cell_type": "code",
   "execution_count": 23,
   "metadata": {},
   "outputs": [
    {
     "name": "stdout",
     "output_type": "stream",
     "text": [
      "['Milk', 'Bread', 'Bananas', 'Oranges', 'Grapes', 'Strawberries', 'Blueberries', 'Pineapple', 'Mango', 'Avocado', 'Tomato', 'Cucumber', 'Lettuce', 'Spinach', 'Broccoli', 'Carrots', 'Potatoes', 'Onions', 'Garlic', 'Ginger', 'Chicken', 'Beef', 'Pork', 'Salmon', 'Tuna', 'Rice', 'Pasta', 'Bread (whole wheat)', 'Cereal', 'Oatmeal', 'Yogurt', 'Milk (almond)', 'Cheese (cheddar)', 'Eggs (organic)', 'Butter', 'Olive oil', 'Salt', 'Pepper', 'Sugar', 'Coffee', 'Tea', 'Chocolate', 'Cookies', 'Chips', 'Ice cream', 'Pizza', 'Pasta sauce', 'Ketchup', 'Mustard', 'Kiwi', 'Raspberries']\n"
     ]
    }
   ],
   "source": [
    "items_to_remove = ['Eggs','Apples']\n",
    "\n",
    "for item in items_to_remove:\n",
    "    grocery_list.remove(item)\n",
    "\n",
    "print(grocery_list)"
   ]
  }
 ],
 "metadata": {
  "kernelspec": {
   "display_name": "base",
   "language": "python",
   "name": "python3"
  },
  "language_info": {
   "codemirror_mode": {
    "name": "ipython",
    "version": 3
   },
   "file_extension": ".py",
   "mimetype": "text/x-python",
   "name": "python",
   "nbconvert_exporter": "python",
   "pygments_lexer": "ipython3",
   "version": "3.12.7"
  }
 },
 "nbformat": 4,
 "nbformat_minor": 2
}
